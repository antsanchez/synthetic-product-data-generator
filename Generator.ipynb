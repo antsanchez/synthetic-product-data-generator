{
 "cells": [
  {
   "cell_type": "markdown",
   "id": "345cd716",
   "metadata": {},
   "source": [
    "# Synthetic Product Data Generation Using LLMs\n",
    "\n",
    "This Jupyter Notebook leverages the capabilities of Large Language Models (LLMs) to generate synthetic product data. It is built upon the [LangChain](https://python.langchain.com/docs/get_started/introduction) framework, enabling a seamless and flexible approach to creating realistic data for e-commerce or any other domain requiring product listings.\n",
    "\n",
    "## Key Features\n",
    "- **Flexible LLM Integration**: While examples for [Ollama](https://ollama.com/) and [OpenAI](https://platform.openai.com/docs/introduction) are provided, users are encouraged to explore and integrate other LLMs as per their requirements, following the guidance available on the [LangChain Quickstart Guide](https://python.langchain.com/docs/get_started/quickstart#llm-chain).\n",
    "- **Customizable Data Generation**: Users can tailor the synthetic data generation process through a set of predefined constants, allowing for the adjustment of shop type, the number of categories, vendors, and products, as well as the retry logic for product detail generation.\n",
    "\n",
    "## Workflow\n",
    "- **Vendor List Generation**: Initiates the process by creating a list of unique vendor names suitable for the specified shop type.\n",
    "- **Category List Creation**: Generates a diverse range of product categories to ensure a comprehensive inventory representation.\n",
    "- **Product Combination Formation**: Constructs random pairings of categories and vendors based on the desired number of products, setting the stage for detailed product information generation.\n",
    "- **Synthetic Product Detail Generation**: For each product pairing, detailed information including product names, descriptions, and prices is generated.\n",
    "\n",
    "## Interactivity and Customization\n",
    "Designed within the interactive environment of a Jupyter Notebook, this tool offers users the flexibility to:\n",
    "\n",
    "- **Monitor and Adjust**: Follow the generation process step-by-step, making real-time adjustments as needed.\n",
    "- **Rerun and Refine**: Easily rerun sections to refine the outcomes or explore different configurations.\n",
    "- **Manual Overrides**: Directly edit the generated data, such as vendor names or category specifics, to align with specific preferences or requirements.\n",
    "This approach not only automates the creation of synthetic data but also places control in the hands of users, blending automation with customization to meet diverse needs."
   ]
  },
  {
   "cell_type": "code",
   "execution_count": null,
   "id": "e231ff93",
   "metadata": {},
   "outputs": [],
   "source": [
    "# If running in Collab\n",
    "%pip install langchain"
   ]
  },
  {
   "cell_type": "code",
   "execution_count": null,
   "id": "1e318eaa",
   "metadata": {},
   "outputs": [],
   "source": [
    "# Standard library imports\n",
    "from typing import Dict, List, Optional\n",
    "import random\n",
    "\n",
    "# Related third-party imports\n",
    "import pandas as pd\n",
    "from tqdm import tqdm\n",
    "\n",
    "# Local application/library specific imports\n",
    "from langchain.prompts import PromptTemplate\n",
    "from langchain.output_parsers import CommaSeparatedListOutputParser\n",
    "from langchain_core.output_parsers import JsonOutputParser\n",
    "from langchain_core.pydantic_v1 import BaseModel, Field"
   ]
  },
  {
   "cell_type": "markdown",
   "id": "8532d63a",
   "metadata": {},
   "source": [
    "## Ollama\n",
    "If you want to use Ollama, use this and change the name of the model you want to use"
   ]
  },
  {
   "cell_type": "code",
   "execution_count": null,
   "id": "2724736a",
   "metadata": {},
   "outputs": [],
   "source": [
    "from langchain_community.llms import Ollama\n",
    "\n",
    "llm = Ollama(model=\"...\")"
   ]
  },
  {
   "cell_type": "markdown",
   "id": "8c77baa6",
   "metadata": {},
   "source": [
    "## OpenAI\n",
    "If you want to use OpenAI, use this:"
   ]
  },
  {
   "cell_type": "code",
   "execution_count": null,
   "id": "61a13782",
   "metadata": {},
   "outputs": [],
   "source": [
    "# If running in Collab\n",
    "%pip install langchain_openai"
   ]
  },
  {
   "cell_type": "code",
   "execution_count": null,
   "id": "2b1c7901",
   "metadata": {},
   "outputs": [],
   "source": [
    "import os\n",
    "from langchain_openai import ChatOpenAI\n",
    "\n",
    "os.environ['OPENAI_API_KEY'] = '...'\n",
    "\n",
    "llm = ChatOpenAI(model=\"...\")"
   ]
  },
  {
   "cell_type": "markdown",
   "id": "c4b99c63",
   "metadata": {},
   "source": [
    "## Constants\n",
    "Define here your desired values"
   ]
  },
  {
   "cell_type": "code",
   "execution_count": null,
   "id": "a68ff290",
   "metadata": {},
   "outputs": [],
   "source": [
    "# Type of shop. Including \"a/an\". Example: \"an online book store\"\n",
    "TYPE_OF_SHOP = \"an online book store\"\n",
    "\n",
    "# Number of categories to generate\n",
    "NUMBER_OF_CATEGORIES = 3\n",
    "\n",
    "# Number of vendors to generate\n",
    "NUMBER_OF_VENDORS = 3\n",
    "\n",
    "# Number of products to generate\n",
    "NUMBER_OF_PRODUCTS = 200\n",
    "\n",
    "# Maximum number of attempts for the LLM to generate each product\n",
    "MAX_ATTEMPTS = 5"
   ]
  },
  {
   "cell_type": "markdown",
   "id": "07a403b3",
   "metadata": {},
   "source": [
    "## Helper Prompts\n",
    "These prompts are responsible for creating the list of vendors and categories"
   ]
  },
  {
   "cell_type": "code",
   "execution_count": null,
   "id": "8cf9af43",
   "metadata": {},
   "outputs": [],
   "source": [
    "# Prepare the helper prompt\n",
    "helper_system_prompt = f\"\"\"\n",
    "As a synthetic product generator specialized for {TYPE_OF_SHOP}, your role encompasses the creation of categories and vendors that fit this specific shop's theme. \n",
    "Your responses should:\n",
    "\n",
    "- Strictly conform to the instructions provided in both system and user prompts.\n",
    "- Focus solely on generating content that is directly requested, without introducing extraneous information.\n",
    "- Reflect the unique context and offerings of {TYPE_OF_SHOP}, ensuring relevance and alignment with its theme.\n",
    "\n",
    "Remember, your objective is to generate data that is coherent, contextually appropriate, and within the bounds of the prompts. \n",
    "Precision and relevance are key.\n",
    "\"\"\"\n",
    "\n",
    "csv_parser = CommaSeparatedListOutputParser()\n",
    "\n",
    "helper_prompt = PromptTemplate(\n",
    "    template=\"{system_prompt}\\n{format_instructions}\\n{query}\\n\",\n",
    "    input_variables=[\"query\"],\n",
    "    partial_variables={\n",
    "        \"format_instructions\": csv_parser.get_format_instructions(),\n",
    "        \"system_prompt\": helper_system_prompt,\n",
    "    },\n",
    ")\n",
    "\n",
    "helper_chain = helper_prompt | llm | csv_parser\n",
    "\n",
    "# Prepare the categories prompt\n",
    "categories_prompt = f\"\"\"\n",
    "Imagine you're organizing the inventory for {TYPE_OF_SHOP}, a shop that needs a well-defined set of categories to classify its wide range of products. \n",
    "Your task is to create {NUMBER_OF_CATEGORIES} category names that reflect the diversity and specificity of products typically found in such a store. \n",
    "These categories should:\n",
    "\n",
    "- Be reflective of common divisions seen in retail stores, ensuring they are recognizable and straightforward for customers.\n",
    "- Encompass a comprehensive scope of the shop's inventory, covering all potential product types it might offer.\n",
    "- Maintain simplicity and clarity, with each name immediately conveying the kind of products it includes.\n",
    "\n",
    "Very important: List only each category name, focusing on the names alone without additional explanations. \n",
    "Do not include new lines, break lines or characters like \"()[]/\\:\"\n",
    "\"\"\"\n",
    "\n",
    "categories = helper_chain.invoke({\"query\": categories_prompt})\n",
    "\n",
    "# Prepare the vendors prompt\n",
    "vendors_prompt = f\"\"\"\n",
    "Craft {NUMBER_OF_VENDORS} unique and inventive vendor names that would be a perfect match for {TYPE_OF_SHOP}. \n",
    "Each name should:\n",
    "\n",
    "- Evoke a sense of professionalism and alignment with the shop's range of products.\n",
    "- Span a variety of styles, suggesting backgrounds from handcrafted origins to modern, technology-driven enterprises.\n",
    "- Remain entirely fictional, carefully avoiding any similarities to actual brands or vendors in the market.\n",
    "\n",
    "Focus exclusively on generating the vendor names, without additional details or descriptions.\n",
    "Do not include new lines, break lines or characters like \"()[]/\\:\"\n",
    "\"\"\"\n",
    "\n",
    "vendors = helper_chain.invoke({\"query\": vendors_prompt})"
   ]
  },
  {
   "cell_type": "code",
   "execution_count": null,
   "id": "4d0c1a57",
   "metadata": {},
   "outputs": [],
   "source": [
    "# Execute this line if you want to see the generated vendors\n",
    "vendors"
   ]
  },
  {
   "cell_type": "code",
   "execution_count": null,
   "id": "082c486e",
   "metadata": {},
   "outputs": [],
   "source": [
    "# Execute this line if you want to see the generated categories\n",
    "categories"
   ]
  },
  {
   "cell_type": "markdown",
   "id": "8bc0c062",
   "metadata": {},
   "source": [
    "## Generate a list of product combinations\n",
    "Constructs random pairings of categories and vendors based on the desired number of products, setting the stage for detailed product information generation."
   ]
  },
  {
   "cell_type": "code",
   "execution_count": null,
   "id": "83206e4b",
   "metadata": {},
   "outputs": [],
   "source": [
    "# Generate a list of product combinations\n",
    "product_combinations = [{\n",
    "    'vendor': random.choice(vendors),\n",
    "    'category': random.choice(categories)\n",
    "} for _ in range(NUMBER_OF_PRODUCTS)]"
   ]
  },
  {
   "cell_type": "markdown",
   "id": "e450e175",
   "metadata": {},
   "source": [
    "## Product Prompt\n",
    "The Product Prompt is designed to generate unique titles, descriptions, and prices for each product, utilizing the vendor name and category for context. To ensure diversity, it cross-references a list of previously generated titles for each vendor, avoiding duplicate titles.\n",
    "\n",
    "To counteract potential inconsistencies, especially with smaller LLMs that might not adhere strictly to instructions, a retry mechanism is in place. This allows the prompt to be executed up to ```MAX_ATTEMPTS``` times, ensuring the generation of accurate and complete product information on each attempt."
   ]
  },
  {
   "cell_type": "code",
   "execution_count": null,
   "id": "b6ca7dc1",
   "metadata": {},
   "outputs": [],
   "source": [
    "class Product(BaseModel):\n",
    "    title: str = Field(description=\"Title of the product\")\n",
    "    description: str = Field(description=\"Description of the product\")\n",
    "    price: str = Field(description=\"Price of the product in USD\")\n",
    "        \n",
    "product_system_prompt = f\"\"\"\n",
    "As a synthetic product generator specialized for {TYPE_OF_SHOP}, your role encompasses the creation of products that fit this specific shop's theme. \n",
    "You will be given a category and an vendor name for generating the product.\n",
    "Your responses should:\n",
    "\n",
    "- Strictly conform to the instructions provided in both system and user prompts.\n",
    "- Focus solely on generating content that is directly requested, without introducing extraneous information.\n",
    "- Reflect the unique context and offerings of {TYPE_OF_SHOP}, ensuring relevance and alignment with its theme.\n",
    "\n",
    "Remember, your objective is to generate data that is coherent, contextually appropriate, and within the bounds of the prompts. \n",
    "Precision and relevance are key.\n",
    "\"\"\"\n",
    "\n",
    "json_parser = JsonOutputParser(pydantic_object=Product)\n",
    "\n",
    "product_prompt = PromptTemplate(\n",
    "    template=\"{system_prompt}\\n{format_instructions}\\n{query}\\n\",\n",
    "    input_variables=[\"query\"],\n",
    "    partial_variables={\n",
    "        \"format_instructions\": json_parser.get_format_instructions(),\n",
    "        \"system_prompt\": product_system_prompt,\n",
    "    },\n",
    ")\n",
    "\n",
    "product_chain = product_prompt | llm | json_parser\n",
    "\n",
    "def generate_product_details(vendor, category, chain, existing_titles: List[str]):\n",
    "    # Construct the prompt for generating product details\n",
    "    existing_titles_formatted = \", \".join([f'\"{title}\"' for title in existing_titles])\n",
    "    prompt = f\"\"\"\n",
    "Given a vendor \"{vendor}\", generate a product for the {category} category. \n",
    "Avoid using these existing titles: {existing_titles_formatted}.\n",
    "\n",
    "Include:\n",
    "\n",
    "- A product title that captures the essence of the item. Do not include the vendor name on the title. Keep it short and concise, and ensure it is unique among these titles: {existing_titles_formatted}.\n",
    "- A comprehensive description that showcases the product's key features and benefits. If it makes sense for the type of product being generated, include relevant details such as weight, size, color, or other pertinent characteristics to give a clear picture of the product. The length of the description is at your discretion, but it should be thorough enough to inform and entice potential customers.\n",
    "- A price in USD, considering the product's value and market positioning.\n",
    "Make sure to always generate a title, a description, and a price.\n",
    "\n",
    "Guidelines:\n",
    "- The product must always include a title, description, and price.\n",
    "- Ensure the title and description are specifically tailored to the category.\n",
    "- You may choose whether to incorporate the vendor name and category within the description, based on what best suits the product narrative and customer engagement strategy.\n",
    "- In your answer, output only the title, description, and price.\n",
    "\"\"\"\n",
    "    for attempt in range(MAX_ATTEMPTS):\n",
    "        # Invoke the chain (LLM) with the prompt\n",
    "        response = chain.invoke({\"query\": prompt})\n",
    "\n",
    "        # Assuming 'response' is a dict with 'title', 'description', and 'price'\n",
    "        # Check if all required parts are present\n",
    "        if all(key in response for key in ['title', 'description', 'price']) and response['title'] not in existing_titles:\n",
    "            # If all parts are present, return the response\n",
    "            return {\n",
    "                'vendor': vendor,\n",
    "                'category': category,\n",
    "                'title': response['title'],\n",
    "                'description': response['description'],\n",
    "                'price': response['price']\n",
    "            }\n",
    "        else:\n",
    "            # If not all parts are present, print a message and try again\n",
    "            print(f\"Attempt {attempt + 1}: Missing one or more parts or title is duplicated. Retrying...\")\n",
    "            print(response)\n",
    "    \n",
    "    # If the loop exits without returning, it means all attempts failed\n",
    "    print(\"Failed to generate complete product details after maximum attempts.\")\n",
    "    return None"
   ]
  },
  {
   "cell_type": "markdown",
   "id": "13f46af4",
   "metadata": {},
   "source": [
    "## Generating the synthetic product data\n",
    "Finally, the titles, descriptions and prices are generated"
   ]
  },
  {
   "cell_type": "code",
   "execution_count": null,
   "id": "0f8ab4f4",
   "metadata": {},
   "outputs": [],
   "source": [
    "product_details_list = [] \n",
    "\n",
    "# Dictionary to keep track of titles generated for each vendor\n",
    "vendor_titles = {}  \n",
    "\n",
    "for product in tqdm(product_combinations, desc='Generating Product Details'):\n",
    "    vendor = product['vendor']\n",
    "    category = product['category']\n",
    "    \n",
    "    if vendor not in vendor_titles:\n",
    "        vendor_titles[vendor] = []\n",
    "    \n",
    "    product_details = generate_product_details(vendor, category, product_chain, vendor_titles[vendor])\n",
    "    if product_details:\n",
    "        product_details_list.append(product_details)\n",
    "        vendor_titles[vendor].append(product_details['title'])"
   ]
  },
  {
   "cell_type": "markdown",
   "id": "df061e30",
   "metadata": {},
   "source": [
    "## Pandas\n",
    "The data is saved to a pandas dataset.\n",
    "\n",
    "The following lines are for helping the user visualize the results and check that there are not duplicates"
   ]
  },
  {
   "cell_type": "code",
   "execution_count": null,
   "id": "a6d5ec76",
   "metadata": {},
   "outputs": [],
   "source": [
    "# Convert the list of dictionaries into a DataFrame\n",
    "df = pd.DataFrame(product_details_list)\n",
    "\n",
    "# Display the first few rows of the DataFrame to verify\n",
    "print(df.head())"
   ]
  },
  {
   "cell_type": "code",
   "execution_count": null,
   "id": "e0d41c37",
   "metadata": {},
   "outputs": [],
   "source": [
    "df['category'].unique()"
   ]
  },
  {
   "cell_type": "code",
   "execution_count": null,
   "id": "4d0ea01f",
   "metadata": {},
   "outputs": [],
   "source": [
    "df['vendor'].unique()"
   ]
  },
  {
   "cell_type": "code",
   "execution_count": null,
   "id": "842bd606",
   "metadata": {},
   "outputs": [],
   "source": [
    "df[df.duplicated('title', keep=False)]"
   ]
  },
  {
   "cell_type": "code",
   "execution_count": null,
   "id": "c32355a1",
   "metadata": {},
   "outputs": [],
   "source": [
    "df[df.duplicated(['vendor', 'title'], keep=False)]"
   ]
  },
  {
   "cell_type": "markdown",
   "id": "bafebc83",
   "metadata": {},
   "source": [
    "## Save to Excel and CSV\n",
    "Save the data"
   ]
  },
  {
   "cell_type": "code",
   "execution_count": null,
   "id": "e840f816",
   "metadata": {},
   "outputs": [],
   "source": [
    "df.to_excel('products.xlsx')"
   ]
  },
  {
   "cell_type": "code",
   "execution_count": null,
   "id": "1cb20fc6",
   "metadata": {},
   "outputs": [],
   "source": [
    "df.to_csv('products.csv')"
   ]
  }
 ],
 "metadata": {
  "kernelspec": {
   "display_name": "Python 3 (ipykernel)",
   "language": "python",
   "name": "python3"
  },
  "language_info": {
   "codemirror_mode": {
    "name": "ipython",
    "version": 3
   },
   "file_extension": ".py",
   "mimetype": "text/x-python",
   "name": "python",
   "nbconvert_exporter": "python",
   "pygments_lexer": "ipython3",
   "version": "3.11.5"
  }
 },
 "nbformat": 4,
 "nbformat_minor": 5
}
